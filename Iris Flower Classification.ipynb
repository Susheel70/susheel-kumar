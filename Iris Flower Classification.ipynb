{
 "cells": [
  {
   "cell_type": "markdown",
   "metadata": {},
   "source": [
    "# Importing Libraries and Iris File"
   ]
  },
  {
   "cell_type": "code",
   "execution_count": 9,
   "metadata": {},
   "outputs": [
    {
     "name": "stdout",
     "output_type": "stream",
     "text": [
      "     sepal_length  sepal_width  petal_length  petal_width     species\n",
      "0             5.1          3.5           1.4          0.2      setosa\n",
      "1             4.9          3.0           1.4          0.2      setosa\n",
      "2             4.7          3.2           1.3          0.2      setosa\n",
      "3             4.6          3.1           1.5          0.2      setosa\n",
      "4             5.0          3.6           1.4          0.2      setosa\n",
      "5             5.4          3.9           1.7          0.4      setosa\n",
      "6             4.6          3.4           1.4          0.3      setosa\n",
      "7             5.0          3.4           1.5          0.2      setosa\n",
      "8             4.4          2.9           1.4          0.2      setosa\n",
      "9             4.9          3.1           1.5          0.1      setosa\n",
      "10            5.4          3.7           1.5          0.2      setosa\n",
      "11            4.8          3.4           1.6          0.2      setosa\n",
      "12            4.8          3.0           1.4          0.1      setosa\n",
      "13            4.3          3.0           1.1          0.1      setosa\n",
      "14            5.8          4.0           1.2          0.2      setosa\n",
      "15            5.7          4.4           1.5          0.4      setosa\n",
      "16            5.4          3.9           1.3          0.4      setosa\n",
      "17            5.1          3.5           1.4          0.3      setosa\n",
      "18            5.7          3.8           1.7          0.3      setosa\n",
      "19            5.1          3.8           1.5          0.3      setosa\n",
      "20            5.4          3.4           1.7          0.2      setosa\n",
      "21            5.1          3.7           1.5          0.4      setosa\n",
      "22            4.6          3.6           1.0          0.2      setosa\n",
      "23            5.1          3.3           1.7          0.5      setosa\n",
      "24            4.8          3.4           1.9          0.2      setosa\n",
      "25            5.0          3.0           1.6          0.2      setosa\n",
      "26            5.0          3.4           1.6          0.4      setosa\n",
      "27            5.2          3.5           1.5          0.2      setosa\n",
      "28            5.2          3.4           1.4          0.2      setosa\n",
      "29            4.7          3.2           1.6          0.2      setosa\n",
      "30            4.8          3.1           1.6          0.2      setosa\n",
      "31            5.4          3.4           1.5          0.4      setosa\n",
      "32            5.2          4.1           1.5          0.1      setosa\n",
      "33            5.5          4.2           1.4          0.2      setosa\n",
      "34            4.9          3.1           1.5          0.1      setosa\n",
      "35            5.0          3.2           1.2          0.2      setosa\n",
      "36            5.5          3.5           1.3          0.2      setosa\n",
      "37            4.9          3.1           1.5          0.1      setosa\n",
      "38            4.4          3.0           1.3          0.2      setosa\n",
      "39            5.1          3.4           1.5          0.2      setosa\n",
      "40            5.0          3.5           1.3          0.3      setosa\n",
      "41            4.5          2.3           1.3          0.3      setosa\n",
      "42            4.4          3.2           1.3          0.2      setosa\n",
      "43            5.0          3.5           1.6          0.6      setosa\n",
      "44            5.1          3.8           1.9          0.4      setosa\n",
      "45            4.8          3.0           1.4          0.3      setosa\n",
      "46            5.1          3.8           1.6          0.2      setosa\n",
      "47            4.6          3.2           1.4          0.2      setosa\n",
      "48            5.3          3.7           1.5          0.2      setosa\n",
      "49            5.0          3.3           1.4          0.2      setosa\n",
      "50            7.0          3.2           4.7          1.4  versicolor\n",
      "51            6.4          3.2           4.5          1.5  versicolor\n",
      "52            6.9          3.1           4.9          1.5  versicolor\n",
      "53            5.5          2.3           4.0          1.3  versicolor\n",
      "54            6.5          2.8           4.6          1.5  versicolor\n",
      "55            5.7          2.8           4.5          1.3  versicolor\n",
      "56            6.3          3.3           4.7          1.6  versicolor\n",
      "57            4.9          2.4           3.3          1.0  versicolor\n",
      "58            6.6          2.9           4.6          1.3  versicolor\n",
      "59            5.2          2.7           3.9          1.4  versicolor\n",
      "60            5.0          2.0           3.5          1.0  versicolor\n",
      "61            5.9          3.0           4.2          1.5  versicolor\n",
      "62            6.0          2.2           4.0          1.0  versicolor\n",
      "63            6.1          2.9           4.7          1.4  versicolor\n",
      "64            5.6          2.9           3.6          1.3  versicolor\n",
      "65            6.7          3.1           4.4          1.4  versicolor\n",
      "66            5.6          3.0           4.5          1.5  versicolor\n",
      "67            5.8          2.7           4.1          1.0  versicolor\n",
      "68            6.2          2.2           4.5          1.5  versicolor\n",
      "69            5.6          2.5           3.9          1.1  versicolor\n",
      "70            5.9          3.2           4.8          1.8  versicolor\n",
      "71            6.1          2.8           4.0          1.3  versicolor\n",
      "72            6.3          2.5           4.9          1.5  versicolor\n",
      "73            6.1          2.8           4.7          1.2  versicolor\n",
      "74            6.4          2.9           4.3          1.3  versicolor\n",
      "75            6.6          3.0           4.4          1.4  versicolor\n",
      "76            6.8          2.8           4.8          1.4  versicolor\n",
      "77            6.7          3.0           5.0          1.7  versicolor\n",
      "78            6.0          2.9           4.5          1.5  versicolor\n",
      "79            5.7          2.6           3.5          1.0  versicolor\n",
      "80            5.5          2.4           3.8          1.1  versicolor\n",
      "81            5.5          2.4           3.7          1.0  versicolor\n",
      "82            5.8          2.7           3.9          1.2  versicolor\n",
      "83            6.0          2.7           5.1          1.6  versicolor\n",
      "84            5.4          3.0           4.5          1.5  versicolor\n",
      "85            6.0          3.4           4.5          1.6  versicolor\n",
      "86            6.7          3.1           4.7          1.5  versicolor\n",
      "87            6.3          2.3           4.4          1.3  versicolor\n",
      "88            5.6          3.0           4.1          1.3  versicolor\n",
      "89            5.5          2.5           4.0          1.3  versicolor\n",
      "90            5.5          2.6           4.4          1.2  versicolor\n",
      "91            6.1          3.0           4.6          1.4  versicolor\n",
      "92            5.8          2.6           4.0          1.2  versicolor\n",
      "93            5.0          2.3           3.3          1.0  versicolor\n",
      "94            5.6          2.7           4.2          1.3  versicolor\n",
      "95            5.7          3.0           4.2          1.2  versicolor\n",
      "96            5.7          2.9           4.2          1.3  versicolor\n",
      "97            6.2          2.9           4.3          1.3  versicolor\n",
      "98            5.1          2.5           3.0          1.1  versicolor\n",
      "99            5.7          2.8           4.1          1.3  versicolor\n",
      "100           6.3          3.3           6.0          2.5   virginica\n",
      "101           5.8          2.7           5.1          1.9   virginica\n",
      "102           7.1          3.0           5.9          2.1   virginica\n",
      "103           6.3          2.9           5.6          1.8   virginica\n",
      "104           6.5          3.0           5.8          2.2   virginica\n",
      "105           7.6          3.0           6.6          2.1   virginica\n",
      "106           4.9          2.5           4.5          1.7   virginica\n",
      "107           7.3          2.9           6.3          1.8   virginica\n",
      "108           6.7          2.5           5.8          1.8   virginica\n",
      "109           7.2          3.6           6.1          2.5   virginica\n",
      "110           6.5          3.2           5.1          2.0   virginica\n",
      "111           6.4          2.7           5.3          1.9   virginica\n",
      "112           6.8          3.0           5.5          2.1   virginica\n",
      "113           5.7          2.5           5.0          2.0   virginica\n",
      "114           5.8          2.8           5.1          2.4   virginica\n",
      "115           6.4          3.2           5.3          2.3   virginica\n",
      "116           6.5          3.0           5.5          1.8   virginica\n",
      "117           7.7          3.8           6.7          2.2   virginica\n",
      "118           7.7          2.6           6.9          2.3   virginica\n",
      "119           6.0          2.2           5.0          1.5   virginica\n",
      "120           6.9          3.2           5.7          2.3   virginica\n",
      "121           5.6          2.8           4.9          2.0   virginica\n",
      "122           7.7          2.8           6.7          2.0   virginica\n",
      "123           6.3          2.7           4.9          1.8   virginica\n",
      "124           6.7          3.3           5.7          2.1   virginica\n",
      "125           7.2          3.2           6.0          1.8   virginica\n",
      "126           6.2          2.8           4.8          1.8   virginica\n",
      "127           6.1          3.0           4.9          1.8   virginica\n",
      "128           6.4          2.8           5.6          2.1   virginica\n",
      "129           7.2          3.0           5.8          1.6   virginica\n",
      "130           7.4          2.8           6.1          1.9   virginica\n",
      "131           7.9          3.8           6.4          2.0   virginica\n",
      "132           6.4          2.8           5.6          2.2   virginica\n",
      "133           6.3          2.8           5.1          1.5   virginica\n",
      "134           6.1          2.6           5.6          1.4   virginica\n",
      "135           7.7          3.0           6.1          2.3   virginica\n",
      "136           6.3          3.4           5.6          2.4   virginica\n",
      "137           6.4          3.1           5.5          1.8   virginica\n",
      "138           6.0          3.0           4.8          1.8   virginica\n",
      "139           6.9          3.1           5.4          2.1   virginica\n",
      "140           6.7          3.1           5.6          2.4   virginica\n",
      "141           6.9          3.1           5.1          2.3   virginica\n",
      "142           5.8          2.7           5.1          1.9   virginica\n",
      "143           6.8          3.2           5.9          2.3   virginica\n",
      "144           6.7          3.3           5.7          2.5   virginica\n",
      "145           6.7          3.0           5.2          2.3   virginica\n",
      "146           6.3          2.5           5.0          1.9   virginica\n",
      "147           6.5          3.0           5.2          2.0   virginica\n",
      "148           6.2          3.4           5.4          2.3   virginica\n",
      "149           5.9          3.0           5.1          1.8   virginica\n"
     ]
    }
   ],
   "source": [
    "import pandas as pd\n",
    "import seaborn as sns\n",
    "df = pd.read_csv(r'C:\\Users\\labuser1\\Desktop\\iris.csv')\n",
    "print(df.to_string())"
   ]
  },
  {
   "cell_type": "markdown",
   "metadata": {},
   "source": [
    "# Data Exploration"
   ]
  },
  {
   "cell_type": "code",
   "execution_count": 10,
   "metadata": {},
   "outputs": [
    {
     "name": "stdout",
     "output_type": "stream",
     "text": [
      "   sepal_length  sepal_width  petal_length  petal_width species\n",
      "0           5.1          3.5           1.4          0.2  setosa\n",
      "1           4.9          3.0           1.4          0.2  setosa\n",
      "2           4.7          3.2           1.3          0.2  setosa\n",
      "3           4.6          3.1           1.5          0.2  setosa\n",
      "4           5.0          3.6           1.4          0.2  setosa\n"
     ]
    }
   ],
   "source": [
    "import pandas as pd\n",
    "df = pd.read_csv(r'C:\\Users\\labuser1\\Desktop\\iris.csv')\n",
    "print(df.head())"
   ]
  },
  {
   "cell_type": "code",
   "execution_count": 11,
   "metadata": {},
   "outputs": [
    {
     "name": "stdout",
     "output_type": "stream",
     "text": [
      "     sepal_length  sepal_width  petal_length  petal_width    species\n",
      "145           6.7          3.0           5.2          2.3  virginica\n",
      "146           6.3          2.5           5.0          1.9  virginica\n",
      "147           6.5          3.0           5.2          2.0  virginica\n",
      "148           6.2          3.4           5.4          2.3  virginica\n",
      "149           5.9          3.0           5.1          1.8  virginica\n"
     ]
    }
   ],
   "source": [
    "import pandas as pd\n",
    "df = pd.read_csv(r'C:\\Users\\labuser1\\Desktop\\iris.csv')\n",
    "print(df.tail())"
   ]
  },
  {
   "cell_type": "code",
   "execution_count": 4,
   "metadata": {},
   "outputs": [
    {
     "name": "stdout",
     "output_type": "stream",
     "text": [
      "(150, 5)\n"
     ]
    }
   ],
   "source": [
    "import pandas as pd\n",
    "df = pd.read_csv(r'C:\\Users\\labuser1\\Desktop\\iris.csv')\n",
    "print(df.shape)"
   ]
  },
  {
   "cell_type": "markdown",
   "metadata": {},
   "source": [
    "# Data Analysis"
   ]
  },
  {
   "cell_type": "code",
   "execution_count": 12,
   "metadata": {},
   "outputs": [
    {
     "name": "stdout",
     "output_type": "stream",
     "text": [
      "       sepal_length  sepal_width  petal_length  petal_width\n",
      "count    150.000000   150.000000    150.000000   150.000000\n",
      "mean       5.843333     3.054000      3.758667     1.198667\n",
      "std        0.828066     0.433594      1.764420     0.763161\n",
      "min        4.300000     2.000000      1.000000     0.100000\n",
      "25%        5.100000     2.800000      1.600000     0.300000\n",
      "50%        5.800000     3.000000      4.350000     1.300000\n",
      "75%        6.400000     3.300000      5.100000     1.800000\n",
      "max        7.900000     4.400000      6.900000     2.500000\n"
     ]
    }
   ],
   "source": [
    "print(df.describe())"
   ]
  },
  {
   "cell_type": "code",
   "execution_count": 13,
   "metadata": {},
   "outputs": [
    {
     "data": {
      "text/plain": [
       "(array([[5.1, 3.5, 1.4, 0.2],\n",
       "        [4.9, 3.0, 1.4, 0.2],\n",
       "        [4.7, 3.2, 1.3, 0.2],\n",
       "        [4.6, 3.1, 1.5, 0.2],\n",
       "        [5.0, 3.6, 1.4, 0.2],\n",
       "        [5.4, 3.9, 1.7, 0.4],\n",
       "        [4.6, 3.4, 1.4, 0.3],\n",
       "        [5.0, 3.4, 1.5, 0.2],\n",
       "        [4.4, 2.9, 1.4, 0.2],\n",
       "        [4.9, 3.1, 1.5, 0.1],\n",
       "        [5.4, 3.7, 1.5, 0.2],\n",
       "        [4.8, 3.4, 1.6, 0.2],\n",
       "        [4.8, 3.0, 1.4, 0.1],\n",
       "        [4.3, 3.0, 1.1, 0.1],\n",
       "        [5.8, 4.0, 1.2, 0.2],\n",
       "        [5.7, 4.4, 1.5, 0.4],\n",
       "        [5.4, 3.9, 1.3, 0.4],\n",
       "        [5.1, 3.5, 1.4, 0.3],\n",
       "        [5.7, 3.8, 1.7, 0.3],\n",
       "        [5.1, 3.8, 1.5, 0.3],\n",
       "        [5.4, 3.4, 1.7, 0.2],\n",
       "        [5.1, 3.7, 1.5, 0.4],\n",
       "        [4.6, 3.6, 1.0, 0.2],\n",
       "        [5.1, 3.3, 1.7, 0.5],\n",
       "        [4.8, 3.4, 1.9, 0.2],\n",
       "        [5.0, 3.0, 1.6, 0.2],\n",
       "        [5.0, 3.4, 1.6, 0.4],\n",
       "        [5.2, 3.5, 1.5, 0.2],\n",
       "        [5.2, 3.4, 1.4, 0.2],\n",
       "        [4.7, 3.2, 1.6, 0.2],\n",
       "        [4.8, 3.1, 1.6, 0.2],\n",
       "        [5.4, 3.4, 1.5, 0.4],\n",
       "        [5.2, 4.1, 1.5, 0.1],\n",
       "        [5.5, 4.2, 1.4, 0.2],\n",
       "        [4.9, 3.1, 1.5, 0.1],\n",
       "        [5.0, 3.2, 1.2, 0.2],\n",
       "        [5.5, 3.5, 1.3, 0.2],\n",
       "        [4.9, 3.1, 1.5, 0.1],\n",
       "        [4.4, 3.0, 1.3, 0.2],\n",
       "        [5.1, 3.4, 1.5, 0.2],\n",
       "        [5.0, 3.5, 1.3, 0.3],\n",
       "        [4.5, 2.3, 1.3, 0.3],\n",
       "        [4.4, 3.2, 1.3, 0.2],\n",
       "        [5.0, 3.5, 1.6, 0.6],\n",
       "        [5.1, 3.8, 1.9, 0.4],\n",
       "        [4.8, 3.0, 1.4, 0.3],\n",
       "        [5.1, 3.8, 1.6, 0.2],\n",
       "        [4.6, 3.2, 1.4, 0.2],\n",
       "        [5.3, 3.7, 1.5, 0.2],\n",
       "        [5.0, 3.3, 1.4, 0.2],\n",
       "        [7.0, 3.2, 4.7, 1.4],\n",
       "        [6.4, 3.2, 4.5, 1.5],\n",
       "        [6.9, 3.1, 4.9, 1.5],\n",
       "        [5.5, 2.3, 4.0, 1.3],\n",
       "        [6.5, 2.8, 4.6, 1.5],\n",
       "        [5.7, 2.8, 4.5, 1.3],\n",
       "        [6.3, 3.3, 4.7, 1.6],\n",
       "        [4.9, 2.4, 3.3, 1.0],\n",
       "        [6.6, 2.9, 4.6, 1.3],\n",
       "        [5.2, 2.7, 3.9, 1.4],\n",
       "        [5.0, 2.0, 3.5, 1.0],\n",
       "        [5.9, 3.0, 4.2, 1.5],\n",
       "        [6.0, 2.2, 4.0, 1.0],\n",
       "        [6.1, 2.9, 4.7, 1.4],\n",
       "        [5.6, 2.9, 3.6, 1.3],\n",
       "        [6.7, 3.1, 4.4, 1.4],\n",
       "        [5.6, 3.0, 4.5, 1.5],\n",
       "        [5.8, 2.7, 4.1, 1.0],\n",
       "        [6.2, 2.2, 4.5, 1.5],\n",
       "        [5.6, 2.5, 3.9, 1.1],\n",
       "        [5.9, 3.2, 4.8, 1.8],\n",
       "        [6.1, 2.8, 4.0, 1.3],\n",
       "        [6.3, 2.5, 4.9, 1.5],\n",
       "        [6.1, 2.8, 4.7, 1.2],\n",
       "        [6.4, 2.9, 4.3, 1.3],\n",
       "        [6.6, 3.0, 4.4, 1.4],\n",
       "        [6.8, 2.8, 4.8, 1.4],\n",
       "        [6.7, 3.0, 5.0, 1.7],\n",
       "        [6.0, 2.9, 4.5, 1.5],\n",
       "        [5.7, 2.6, 3.5, 1.0],\n",
       "        [5.5, 2.4, 3.8, 1.1],\n",
       "        [5.5, 2.4, 3.7, 1.0],\n",
       "        [5.8, 2.7, 3.9, 1.2],\n",
       "        [6.0, 2.7, 5.1, 1.6],\n",
       "        [5.4, 3.0, 4.5, 1.5],\n",
       "        [6.0, 3.4, 4.5, 1.6],\n",
       "        [6.7, 3.1, 4.7, 1.5],\n",
       "        [6.3, 2.3, 4.4, 1.3],\n",
       "        [5.6, 3.0, 4.1, 1.3],\n",
       "        [5.5, 2.5, 4.0, 1.3],\n",
       "        [5.5, 2.6, 4.4, 1.2],\n",
       "        [6.1, 3.0, 4.6, 1.4],\n",
       "        [5.8, 2.6, 4.0, 1.2],\n",
       "        [5.0, 2.3, 3.3, 1.0],\n",
       "        [5.6, 2.7, 4.2, 1.3],\n",
       "        [5.7, 3.0, 4.2, 1.2],\n",
       "        [5.7, 2.9, 4.2, 1.3],\n",
       "        [6.2, 2.9, 4.3, 1.3],\n",
       "        [5.1, 2.5, 3.0, 1.1],\n",
       "        [5.7, 2.8, 4.1, 1.3],\n",
       "        [6.3, 3.3, 6.0, 2.5],\n",
       "        [5.8, 2.7, 5.1, 1.9],\n",
       "        [7.1, 3.0, 5.9, 2.1],\n",
       "        [6.3, 2.9, 5.6, 1.8],\n",
       "        [6.5, 3.0, 5.8, 2.2],\n",
       "        [7.6, 3.0, 6.6, 2.1],\n",
       "        [4.9, 2.5, 4.5, 1.7],\n",
       "        [7.3, 2.9, 6.3, 1.8],\n",
       "        [6.7, 2.5, 5.8, 1.8],\n",
       "        [7.2, 3.6, 6.1, 2.5],\n",
       "        [6.5, 3.2, 5.1, 2.0],\n",
       "        [6.4, 2.7, 5.3, 1.9],\n",
       "        [6.8, 3.0, 5.5, 2.1],\n",
       "        [5.7, 2.5, 5.0, 2.0],\n",
       "        [5.8, 2.8, 5.1, 2.4],\n",
       "        [6.4, 3.2, 5.3, 2.3],\n",
       "        [6.5, 3.0, 5.5, 1.8],\n",
       "        [7.7, 3.8, 6.7, 2.2],\n",
       "        [7.7, 2.6, 6.9, 2.3],\n",
       "        [6.0, 2.2, 5.0, 1.5],\n",
       "        [6.9, 3.2, 5.7, 2.3],\n",
       "        [5.6, 2.8, 4.9, 2.0],\n",
       "        [7.7, 2.8, 6.7, 2.0],\n",
       "        [6.3, 2.7, 4.9, 1.8],\n",
       "        [6.7, 3.3, 5.7, 2.1],\n",
       "        [7.2, 3.2, 6.0, 1.8],\n",
       "        [6.2, 2.8, 4.8, 1.8],\n",
       "        [6.1, 3.0, 4.9, 1.8],\n",
       "        [6.4, 2.8, 5.6, 2.1],\n",
       "        [7.2, 3.0, 5.8, 1.6],\n",
       "        [7.4, 2.8, 6.1, 1.9],\n",
       "        [7.9, 3.8, 6.4, 2.0],\n",
       "        [6.4, 2.8, 5.6, 2.2],\n",
       "        [6.3, 2.8, 5.1, 1.5],\n",
       "        [6.1, 2.6, 5.6, 1.4],\n",
       "        [7.7, 3.0, 6.1, 2.3],\n",
       "        [6.3, 3.4, 5.6, 2.4],\n",
       "        [6.4, 3.1, 5.5, 1.8],\n",
       "        [6.0, 3.0, 4.8, 1.8],\n",
       "        [6.9, 3.1, 5.4, 2.1],\n",
       "        [6.7, 3.1, 5.6, 2.4],\n",
       "        [6.9, 3.1, 5.1, 2.3],\n",
       "        [5.8, 2.7, 5.1, 1.9],\n",
       "        [6.8, 3.2, 5.9, 2.3],\n",
       "        [6.7, 3.3, 5.7, 2.5],\n",
       "        [6.7, 3.0, 5.2, 2.3],\n",
       "        [6.3, 2.5, 5.0, 1.9],\n",
       "        [6.5, 3.0, 5.2, 2.0],\n",
       "        [6.2, 3.4, 5.4, 2.3],\n",
       "        [5.9, 3.0, 5.1, 1.8]], dtype=object),\n",
       " array(['setosa', 'setosa', 'setosa', 'setosa', 'setosa', 'setosa',\n",
       "        'setosa', 'setosa', 'setosa', 'setosa', 'setosa', 'setosa',\n",
       "        'setosa', 'setosa', 'setosa', 'setosa', 'setosa', 'setosa',\n",
       "        'setosa', 'setosa', 'setosa', 'setosa', 'setosa', 'setosa',\n",
       "        'setosa', 'setosa', 'setosa', 'setosa', 'setosa', 'setosa',\n",
       "        'setosa', 'setosa', 'setosa', 'setosa', 'setosa', 'setosa',\n",
       "        'setosa', 'setosa', 'setosa', 'setosa', 'setosa', 'setosa',\n",
       "        'setosa', 'setosa', 'setosa', 'setosa', 'setosa', 'setosa',\n",
       "        'setosa', 'setosa', 'versicolor', 'versicolor', 'versicolor',\n",
       "        'versicolor', 'versicolor', 'versicolor', 'versicolor',\n",
       "        'versicolor', 'versicolor', 'versicolor', 'versicolor',\n",
       "        'versicolor', 'versicolor', 'versicolor', 'versicolor',\n",
       "        'versicolor', 'versicolor', 'versicolor', 'versicolor',\n",
       "        'versicolor', 'versicolor', 'versicolor', 'versicolor',\n",
       "        'versicolor', 'versicolor', 'versicolor', 'versicolor',\n",
       "        'versicolor', 'versicolor', 'versicolor', 'versicolor',\n",
       "        'versicolor', 'versicolor', 'versicolor', 'versicolor',\n",
       "        'versicolor', 'versicolor', 'versicolor', 'versicolor',\n",
       "        'versicolor', 'versicolor', 'versicolor', 'versicolor',\n",
       "        'versicolor', 'versicolor', 'versicolor', 'versicolor',\n",
       "        'versicolor', 'versicolor', 'versicolor', 'virginica', 'virginica',\n",
       "        'virginica', 'virginica', 'virginica', 'virginica', 'virginica',\n",
       "        'virginica', 'virginica', 'virginica', 'virginica', 'virginica',\n",
       "        'virginica', 'virginica', 'virginica', 'virginica', 'virginica',\n",
       "        'virginica', 'virginica', 'virginica', 'virginica', 'virginica',\n",
       "        'virginica', 'virginica', 'virginica', 'virginica', 'virginica',\n",
       "        'virginica', 'virginica', 'virginica', 'virginica', 'virginica',\n",
       "        'virginica', 'virginica', 'virginica', 'virginica', 'virginica',\n",
       "        'virginica', 'virginica', 'virginica', 'virginica', 'virginica',\n",
       "        'virginica', 'virginica', 'virginica', 'virginica', 'virginica',\n",
       "        'virginica', 'virginica', 'virginica'], dtype=object))"
      ]
     },
     "execution_count": 13,
     "metadata": {},
     "output_type": "execute_result"
    }
   ],
   "source": [
    "x = df.values[:,0:4]\n",
    "y = df.values[:,4]\n",
    "x,y"
   ]
  },
  {
   "cell_type": "code",
   "execution_count": 14,
   "metadata": {},
   "outputs": [
    {
     "name": "stdout",
     "output_type": "stream",
     "text": [
      "[[5.1 3.5 1.4 0.3]\n",
      " [6.1 2.6 5.6 1.4]\n",
      " [4.8 3.4 1.6 0.2]\n",
      " [5.1 3.7 1.5 0.4]\n",
      " [6.7 3.3 5.7 2.5]\n",
      " [6.7 3.0 5.0 1.7]\n",
      " [5.6 2.5 3.9 1.1]\n",
      " [7.7 2.6 6.9 2.3]\n",
      " [4.9 3.0 1.4 0.2]\n",
      " [5.1 3.3 1.7 0.5]\n",
      " [4.7 3.2 1.3 0.2]\n",
      " [6.4 3.2 5.3 2.3]\n",
      " [4.7 3.2 1.6 0.2]\n",
      " [5.8 2.6 4.0 1.2]\n",
      " [5.5 2.5 4.0 1.3]\n",
      " [5.6 2.9 3.6 1.3]\n",
      " [6.4 2.8 5.6 2.2]\n",
      " [5.7 2.5 5.0 2.0]\n",
      " [5.2 2.7 3.9 1.4]\n",
      " [6.7 2.5 5.8 1.8]\n",
      " [6.9 3.1 5.4 2.1]\n",
      " [7.7 3.0 6.1 2.3]\n",
      " [4.6 3.6 1.0 0.2]\n",
      " [6.1 3.0 4.9 1.8]\n",
      " [4.4 3.0 1.3 0.2]\n",
      " [5.2 3.5 1.5 0.2]\n",
      " [6.2 2.2 4.5 1.5]\n",
      " [5.0 3.5 1.6 0.6]\n",
      " [5.1 2.5 3.0 1.1]\n",
      " [6.8 3.0 5.5 2.1]\n",
      " [6.4 3.2 4.5 1.5]\n",
      " [7.4 2.8 6.1 1.9]\n",
      " [4.9 3.1 1.5 0.1]\n",
      " [5.4 3.9 1.7 0.4]\n",
      " [6.2 3.4 5.4 2.3]\n",
      " [5.1 3.8 1.9 0.4]\n",
      " [5.0 2.3 3.3 1.0]\n",
      " [6.0 2.9 4.5 1.5]\n",
      " [7.2 3.6 6.1 2.5]\n",
      " [5.5 4.2 1.4 0.2]\n",
      " [5.0 3.3 1.4 0.2]\n",
      " [5.0 3.4 1.6 0.4]\n",
      " [6.0 2.2 4.0 1.0]\n",
      " [4.9 3.1 1.5 0.1]\n",
      " [6.5 3.0 5.8 2.2]\n",
      " [5.1 3.4 1.5 0.2]\n",
      " [7.2 3.0 5.8 1.6]\n",
      " [5.3 3.7 1.5 0.2]\n",
      " [4.8 3.1 1.6 0.2]\n",
      " [6.6 3.0 4.4 1.4]\n",
      " [5.9 3.2 4.8 1.8]\n",
      " [7.1 3.0 5.9 2.1]\n",
      " [6.5 3.0 5.2 2.0]\n",
      " [5.7 2.6 3.5 1.0]\n",
      " [5.8 2.7 4.1 1.0]\n",
      " [5.7 2.8 4.5 1.3]\n",
      " [6.1 2.8 4.7 1.2]\n",
      " [6.7 3.3 5.7 2.1]\n",
      " [5.5 2.4 3.8 1.1]\n",
      " [4.6 3.4 1.4 0.3]\n",
      " [5.0 3.4 1.5 0.2]\n",
      " [4.6 3.2 1.4 0.2]\n",
      " [6.0 2.7 5.1 1.6]\n",
      " [5.6 2.8 4.9 2.0]\n",
      " [4.3 3.0 1.1 0.1]\n",
      " [6.1 2.9 4.7 1.4]\n",
      " [5.9 3.0 5.1 1.8]\n",
      " [4.4 3.2 1.3 0.2]\n",
      " [5.2 4.1 1.5 0.1]\n",
      " [6.0 3.0 4.8 1.8]\n",
      " [7.2 3.2 6.0 1.8]\n",
      " [4.8 3.4 1.9 0.2]\n",
      " [6.3 3.3 4.7 1.6]\n",
      " [6.5 2.8 4.6 1.5]\n",
      " [5.7 2.8 4.1 1.3]\n",
      " [7.3 2.9 6.3 1.8]\n",
      " [6.3 2.5 5.0 1.9]\n",
      " [5.1 3.8 1.5 0.3]\n",
      " [6.1 3.0 4.6 1.4]\n",
      " [5.9 3.0 4.2 1.5]\n",
      " [6.4 2.7 5.3 1.9]\n",
      " [5.7 2.9 4.2 1.3]\n",
      " [6.0 2.2 5.0 1.5]\n",
      " [5.4 3.7 1.5 0.2]\n",
      " [6.7 3.0 5.2 2.3]\n",
      " [6.3 3.4 5.6 2.4]\n",
      " [5.5 2.4 3.7 1.0]\n",
      " [5.4 3.9 1.3 0.4]\n",
      " [5.0 3.6 1.4 0.2]\n",
      " [6.2 2.8 4.8 1.8]\n",
      " [5.0 2.0 3.5 1.0]\n",
      " [5.2 3.4 1.4 0.2]\n",
      " [4.5 2.3 1.3 0.3]\n",
      " [6.3 3.3 6.0 2.5]\n",
      " [7.7 2.8 6.7 2.0]\n",
      " [6.4 2.9 4.3 1.3]\n",
      " [6.8 2.8 4.8 1.4]\n",
      " [5.7 4.4 1.5 0.4]\n",
      " [6.0 3.4 4.5 1.6]\n",
      " [5.8 4.0 1.2 0.2]\n",
      " [6.3 2.9 5.6 1.8]\n",
      " [5.0 3.0 1.6 0.2]\n",
      " [7.9 3.8 6.4 2.0]\n",
      " [5.8 2.7 5.1 1.9]\n",
      " [7.0 3.2 4.7 1.4]\n",
      " [6.4 3.1 5.5 1.8]\n",
      " [5.1 3.8 1.6 0.2]\n",
      " [5.6 2.7 4.2 1.3]\n",
      " [5.5 3.5 1.3 0.2]\n",
      " [6.1 2.8 4.0 1.3]\n",
      " [5.8 2.8 5.1 2.4]\n",
      " [5.5 2.6 4.4 1.2]]\n"
     ]
    }
   ],
   "source": [
    "from sklearn.model_selection import train_test_split\n",
    "x_train,x_test,y_train,y_test=train_test_split(x,y)\n",
    "test_size = 0.20\n",
    "print(x_train)"
   ]
  },
  {
   "cell_type": "code",
   "execution_count": 15,
   "metadata": {},
   "outputs": [
    {
     "name": "stdout",
     "output_type": "stream",
     "text": [
      "['setosa' 'virginica' 'setosa' 'setosa' 'virginica' 'versicolor'\n",
      " 'versicolor' 'virginica' 'setosa' 'setosa' 'setosa' 'virginica' 'setosa'\n",
      " 'versicolor' 'versicolor' 'versicolor' 'virginica' 'virginica'\n",
      " 'versicolor' 'virginica' 'virginica' 'virginica' 'setosa' 'virginica'\n",
      " 'setosa' 'setosa' 'versicolor' 'setosa' 'versicolor' 'virginica'\n",
      " 'versicolor' 'virginica' 'setosa' 'setosa' 'virginica' 'setosa'\n",
      " 'versicolor' 'versicolor' 'virginica' 'setosa' 'setosa' 'setosa'\n",
      " 'versicolor' 'setosa' 'virginica' 'setosa' 'virginica' 'setosa' 'setosa'\n",
      " 'versicolor' 'versicolor' 'virginica' 'virginica' 'versicolor'\n",
      " 'versicolor' 'versicolor' 'versicolor' 'virginica' 'versicolor' 'setosa'\n",
      " 'setosa' 'setosa' 'versicolor' 'virginica' 'setosa' 'versicolor'\n",
      " 'virginica' 'setosa' 'setosa' 'virginica' 'virginica' 'setosa'\n",
      " 'versicolor' 'versicolor' 'versicolor' 'virginica' 'virginica' 'setosa'\n",
      " 'versicolor' 'versicolor' 'virginica' 'versicolor' 'virginica' 'setosa'\n",
      " 'virginica' 'virginica' 'versicolor' 'setosa' 'setosa' 'virginica'\n",
      " 'versicolor' 'setosa' 'setosa' 'virginica' 'virginica' 'versicolor'\n",
      " 'versicolor' 'setosa' 'versicolor' 'setosa' 'virginica' 'setosa'\n",
      " 'virginica' 'virginica' 'versicolor' 'virginica' 'setosa' 'versicolor'\n",
      " 'setosa' 'versicolor' 'virginica' 'versicolor']\n"
     ]
    }
   ],
   "source": [
    "print(y_train)"
   ]
  },
  {
   "cell_type": "code",
   "execution_count": 16,
   "metadata": {},
   "outputs": [
    {
     "name": "stdout",
     "output_type": "stream",
     "text": [
      "[[4.6 3.1 1.5 0.2]\n",
      " [6.9 3.1 4.9 1.5]\n",
      " [4.8 3.0 1.4 0.1]\n",
      " [6.5 3.2 5.1 2.0]\n",
      " [5.1 3.5 1.4 0.2]\n",
      " [6.5 3.0 5.5 1.8]\n",
      " [5.7 3.8 1.7 0.3]\n",
      " [5.7 3.0 4.2 1.2]\n",
      " [4.9 2.5 4.5 1.7]\n",
      " [6.2 2.9 4.3 1.3]\n",
      " [6.6 2.9 4.6 1.3]\n",
      " [5.8 2.7 3.9 1.2]\n",
      " [6.7 3.1 4.7 1.5]\n",
      " [4.9 3.1 1.5 0.1]\n",
      " [6.7 3.1 4.4 1.4]\n",
      " [6.3 2.8 5.1 1.5]\n",
      " [6.3 2.7 4.9 1.8]\n",
      " [4.8 3.0 1.4 0.3]\n",
      " [6.8 3.2 5.9 2.3]\n",
      " [7.6 3.0 6.6 2.1]\n",
      " [5.5 2.3 4.0 1.3]\n",
      " [7.7 3.8 6.7 2.2]\n",
      " [5.4 3.4 1.7 0.2]\n",
      " [6.4 2.8 5.6 2.1]\n",
      " [6.9 3.2 5.7 2.3]\n",
      " [5.0 3.2 1.2 0.2]\n",
      " [5.4 3.4 1.5 0.4]\n",
      " [5.0 3.5 1.3 0.3]\n",
      " [5.4 3.0 4.5 1.5]\n",
      " [5.6 3.0 4.5 1.5]\n",
      " [6.9 3.1 5.1 2.3]\n",
      " [5.6 3.0 4.1 1.3]\n",
      " [4.4 2.9 1.4 0.2]\n",
      " [6.7 3.1 5.6 2.4]\n",
      " [6.3 2.3 4.4 1.3]\n",
      " [6.3 2.5 4.9 1.5]\n",
      " [5.8 2.7 5.1 1.9]\n",
      " [4.9 2.4 3.3 1.0]]\n"
     ]
    }
   ],
   "source": [
    "print(x_test)"
   ]
  },
  {
   "cell_type": "code",
   "execution_count": 17,
   "metadata": {},
   "outputs": [
    {
     "name": "stdout",
     "output_type": "stream",
     "text": [
      "['setosa' 'versicolor' 'setosa' 'virginica' 'setosa' 'virginica' 'setosa'\n",
      " 'versicolor' 'virginica' 'versicolor' 'versicolor' 'versicolor'\n",
      " 'versicolor' 'setosa' 'versicolor' 'virginica' 'virginica' 'setosa'\n",
      " 'virginica' 'virginica' 'versicolor' 'virginica' 'setosa' 'virginica'\n",
      " 'virginica' 'setosa' 'setosa' 'setosa' 'versicolor' 'versicolor'\n",
      " 'virginica' 'versicolor' 'setosa' 'virginica' 'versicolor' 'versicolor'\n",
      " 'virginica' 'versicolor']\n"
     ]
    }
   ],
   "source": [
    "print(y_test)"
   ]
  },
  {
   "cell_type": "code",
   "execution_count": 18,
   "metadata": {},
   "outputs": [
    {
     "name": "stdout",
     "output_type": "stream",
     "text": [
      "<class 'pandas.core.frame.DataFrame'>\n",
      "RangeIndex: 150 entries, 0 to 149\n",
      "Data columns (total 5 columns):\n",
      " #   Column        Non-Null Count  Dtype  \n",
      "---  ------        --------------  -----  \n",
      " 0   sepal_length  150 non-null    float64\n",
      " 1   sepal_width   150 non-null    float64\n",
      " 2   petal_length  150 non-null    float64\n",
      " 3   petal_width   150 non-null    float64\n",
      " 4   species       150 non-null    object \n",
      "dtypes: float64(4), object(1)\n",
      "memory usage: 6.0+ KB\n",
      "None\n"
     ]
    }
   ],
   "source": [
    "import pandas as pd\n",
    "df = pd.read_csv(r'C:\\Users\\labuser1\\Desktop\\iris.csv')\n",
    "print(df.info())"
   ]
  },
  {
   "cell_type": "markdown",
   "metadata": {},
   "source": [
    "# Training of the Model"
   ]
  },
  {
   "cell_type": "code",
   "execution_count": 20,
   "metadata": {},
   "outputs": [
    {
     "data": {
      "text/plain": [
       "LogisticRegression()"
      ]
     },
     "execution_count": 20,
     "metadata": {},
     "output_type": "execute_result"
    }
   ],
   "source": [
    "from sklearn.linear_model import LogisticRegression\n",
    "model=LogisticRegression()\n",
    "model.fit(x_train,y_train)"
   ]
  },
  {
   "cell_type": "markdown",
   "metadata": {},
   "source": [
    "# Predict the Data and Accuracy of the Model"
   ]
  },
  {
   "cell_type": "code",
   "execution_count": 21,
   "metadata": {},
   "outputs": [
    {
     "name": "stdout",
     "output_type": "stream",
     "text": [
      "['setosa' 'versicolor' 'setosa' 'virginica' 'setosa' 'virginica' 'setosa'\n",
      " 'versicolor' 'versicolor' 'versicolor' 'versicolor' 'versicolor'\n",
      " 'versicolor' 'setosa' 'versicolor' 'virginica' 'virginica' 'setosa'\n",
      " 'virginica' 'virginica' 'versicolor' 'virginica' 'setosa' 'virginica'\n",
      " 'virginica' 'setosa' 'setosa' 'setosa' 'versicolor' 'versicolor'\n",
      " 'virginica' 'versicolor' 'setosa' 'virginica' 'versicolor' 'versicolor'\n",
      " 'virginica' 'versicolor']\n"
     ]
    }
   ],
   "source": [
    "predictions = model.predict(x_test)\n",
    "print(predictions)"
   ]
  },
  {
   "cell_type": "code",
   "execution_count": 22,
   "metadata": {},
   "outputs": [
    {
     "data": {
      "text/plain": [
       "array([[11,  0,  0],\n",
       "       [ 0, 14,  0],\n",
       "       [ 0,  1, 12]], dtype=int64)"
      ]
     },
     "execution_count": 22,
     "metadata": {},
     "output_type": "execute_result"
    }
   ],
   "source": [
    "from sklearn.metrics import accuracy_score,confusion_matrix\n",
    "confusion_matrix(y_test, predictions)"
   ]
  },
  {
   "cell_type": "code",
   "execution_count": 24,
   "metadata": {},
   "outputs": [
    {
     "name": "stdout",
     "output_type": "stream",
     "text": [
      "accuracy of the model is 97.37\n"
     ]
    }
   ],
   "source": [
    "accuracy = accuracy_score(y_test, predictions)*100\n",
    "print(\"accuracy of the model is {:,.2f}\".format(accuracy))"
   ]
  }
 ],
 "metadata": {
  "kernelspec": {
   "display_name": "Python 3 (ipykernel)",
   "language": "python",
   "name": "python3"
  },
  "language_info": {
   "codemirror_mode": {
    "name": "ipython",
    "version": 3
   },
   "file_extension": ".py",
   "mimetype": "text/x-python",
   "name": "python",
   "nbconvert_exporter": "python",
   "pygments_lexer": "ipython3",
   "version": "3.9.4"
  }
 },
 "nbformat": 4,
 "nbformat_minor": 2
}
